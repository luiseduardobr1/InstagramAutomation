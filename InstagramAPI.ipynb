{
 "cells": [
  {
   "cell_type": "markdown",
   "metadata": {},
   "source": [
    "# Instagram API - Automation\n",
    "*Luís Eduardo Pompeu de Sousa Brasil Háteras*"
   ]
  },
  {
   "cell_type": "code",
   "execution_count": null,
   "metadata": {
    "ExecuteTime": {
     "end_time": "2020-04-30T14:25:27.207208Z",
     "start_time": "2020-04-30T14:25:27.202208Z"
    }
   },
   "outputs": [],
   "source": [
    "# Show all output's on Jupyter Notebook\n",
    "from IPython.core.interactiveshell import InteractiveShell\n",
    "InteractiveShell.ast_node_interactivity = \"all\""
   ]
  },
  {
   "cell_type": "markdown",
   "metadata": {},
   "source": [
    "## Authentication on Instagram"
   ]
  },
  {
   "cell_type": "code",
   "execution_count": null,
   "metadata": {
    "ExecuteTime": {
     "end_time": "2020-04-30T14:47:57.260273Z",
     "start_time": "2020-04-30T14:47:54.251100Z"
    }
   },
   "outputs": [],
   "source": [
    "from instagram_private_api import Client, ClientCompatPatch\n",
    "\n",
    "user_name = 'YOUR USERNAME'\n",
    "password = 'YOUR PASSWORD'\n",
    "\n",
    "api = Client(user_name, password)\n",
    "results = api.feed_timeline()"
   ]
  },
  {
   "cell_type": "markdown",
   "metadata": {},
   "source": [
    "## List of followers and following"
   ]
  },
  {
   "cell_type": "code",
   "execution_count": null,
   "metadata": {
    "ExecuteTime": {
     "end_time": "2020-04-30T14:25:33.151548Z",
     "start_time": "2020-04-30T14:25:30.420392Z"
    },
    "code_folding": [
     16
    ]
   },
   "outputs": [],
   "source": [
    "from operator import itemgetter\n",
    "import pandas as pd\n",
    "import json\n",
    "import requests\n",
    "\n",
    "# How to get user's ID ? https://www.instagram.com/{username}/?__a=1\n",
    "# or just type de username:\n",
    "def get_userID(username):\n",
    "    response = requests.get('https://www.instagram.com/{}/?__a=1'.format(username))\n",
    "    dictionary = json.loads(response.text)\n",
    "    return(dictionary['graphql']['user']['id'])\n",
    "\n",
    "print(get_userID('edux21'))\n",
    "\n",
    "\n",
    "# Following (while for pagination)\n",
    "def following_users(userid_instagram):\n",
    "    following = []\n",
    "    combinacao=[]\n",
    "    \n",
    "    results = api.user_following(userid_instagram, rank_token=api.generate_uuid())\n",
    "    following.extend(results.get('users', []))\n",
    "    next_max_id = results.get('next_max_id')\n",
    "    \n",
    "    while next_max_id:\n",
    "        results = api.user_following(userid_instagram, rank_token=api.generate_uuid(), max_id=next_max_id)\n",
    "        following.extend(results.get('users', []))\n",
    "        next_max_id = results.get('next_max_id')\n",
    "        \n",
    "    userid = [following[i]['pk'] for i in range(0,len(following))]\n",
    "    full_names = [following[i]['full_name'] for i in range(0,len(following))]\n",
    "    usernames = [following[i]['username'] for i in range(0,len(following))]\n",
    "    profile_pic_url = [following[i]['profile_pic_url'] for i in range(0,len(following))]\n",
    "    following_text = ['following' for i in range(0,len(following))]\n",
    "    \n",
    "    combinacao.extend([list(i) for i in zip(userid, full_names,\n",
    "                                            usernames, profile_pic_url, following_text)])\n",
    "    combinacao = sorted(combinacao, key=itemgetter(2), reverse=False)\n",
    "    return(combinacao)\n",
    "    \n",
    "seguindo = following_users(get_userID('edux21'))\n",
    "seguindo = pd.DataFrame(seguindo, columns = ['userID' , 'Full Name', 'username', 'Profile Picture', 'Type']) \n",
    "seguindo\n",
    "\n",
    "\n",
    "# Followers (while for pagination)\n",
    "def followers_users(userid_instagram):\n",
    "    followers = []\n",
    "    combinacao = []\n",
    "    \n",
    "    results = api.user_followers(userid_instagram, rank_token=api.generate_uuid())\n",
    "    followers.extend(results.get('users', []))\n",
    "    next_max_id = results.get('next_max_id')\n",
    "\n",
    "    while next_max_id:\n",
    "        results = api.user_followers(userid_instagram, rank_token=api.generate_uuid(), max_id=next_max_id)\n",
    "        followers.extend(results.get('users', []))\n",
    "        next_max_id = results.get('next_max_id')\n",
    "        \n",
    "    userid = [followers[i]['pk'] for i in range(0,len(followers))]\n",
    "    full_names = [followers[i]['full_name'] for i in range(0,len(followers))]\n",
    "    usernames = [followers[i]['username'] for i in range(0,len(followers))]\n",
    "    profile_pic_url = [followers[i]['profile_pic_url'] for i in range(0,len(followers))]\n",
    "    followers_text = ['follower' for i in range(0,len(followers))]\n",
    "    \n",
    "    combinacao.extend([list(i) for i in zip(userid, full_names,\n",
    "                                            usernames, profile_pic_url, followers_text)])\n",
    "    combinacao = sorted(combinacao, key=itemgetter(2), reverse=False)\n",
    "    return(combinacao)\n",
    "\n",
    "seguidores = followers_users(get_userID('edux21'))\n",
    "seguidores = pd.DataFrame(seguidores, columns = ['userID' , 'Full Name', 'username', 'Profile Picture', 'Type']) \n",
    "seguidores\n",
    "\n",
    "# Save in CSV file\n",
    "seguindo.to_csv('following_usersInstagram.csv', mode='w', sep='\\t', encoding='utf-16', index = None)\n",
    "seguidores.to_csv('followers_usersInstagram.csv', mode='w', sep='\\t', encoding='utf-16', index = None)\n",
    "\n",
    "\n"
   ]
  },
  {
   "cell_type": "markdown",
   "metadata": {},
   "source": [
    "## Mutual friends, Following alone, Follower alone"
   ]
  },
  {
   "cell_type": "code",
   "execution_count": null,
   "metadata": {
    "ExecuteTime": {
     "end_time": "2020-04-30T14:25:39.334902Z",
     "start_time": "2020-04-30T14:25:39.207895Z"
    }
   },
   "outputs": [],
   "source": [
    "# Following + Followers\n",
    "df = pd.concat([seguidores,seguindo], axis=0).reset_index()\n",
    "total_following_followers = len(df)\n",
    "\n",
    "# Mutual friends - following and follower\n",
    "mutual_friends = df[df.duplicated(subset='username')].reset_index()\n",
    "mutual_friends.drop(columns=['level_0', 'index', 'Type'], inplace=True)\n",
    "mutual_friends\n",
    "\n",
    "# People who follows you and you don't follow back or \n",
    "# People who you follow and they don't follow you back\n",
    "df = df.drop_duplicates(subset=['username'], keep=False)\n",
    "\n",
    "# Following people but who don't follow you back\n",
    "following_alone = df[df['Type']=='following'].reset_index()\n",
    "following_alone.drop(columns=['level_0', 'index'], inplace=True)\n",
    "following_alone\n",
    "\n",
    "# Followers who you don't follow them back\n",
    "followers_alone = df[df['Type']=='follower'].reset_index()\n",
    "followers_alone.drop(columns=['level_0', 'index'], inplace=True)\n",
    "followers_alone\n",
    "\n",
    "\n",
    "# Save in CSV file\n",
    "mutual_friends.to_csv('mutualFriendsInstagram.csv', mode='w', sep='\\t', encoding='utf-16', index = None)\n",
    "following_alone.to_csv('following_alone.csv', mode='w', sep='\\t', encoding='utf-16', index = None)\n",
    "followers_alone.to_csv('followers_alone.csv', mode='w', sep='\\t', encoding='utf-16', index = None)\n",
    "\n",
    "\n",
    "print('Mutual friends total (%): ' + str(100*2*len(mutual_friends)/total_following_followers))\n",
    "print('Following people who dont follow you back (%): ' + str(100*len(following_alone)/total_following_followers))\n",
    "print('Followers who you dont follow them back (%): ' + str(100*len(followers_alone)/total_following_followers))"
   ]
  },
  {
   "cell_type": "markdown",
   "metadata": {},
   "source": [
    "## Photos - Date of publication, location, number of likes, comments, URL"
   ]
  },
  {
   "cell_type": "code",
   "execution_count": null,
   "metadata": {
    "ExecuteTime": {
     "end_time": "2020-04-29T00:56:21.817030Z",
     "start_time": "2020-04-29T00:56:17.490782Z"
    },
    "code_folding": [
     9
    ]
   },
   "outputs": [],
   "source": [
    "import pandas as pd\n",
    "from collections import Counter\n",
    "import datetime\n",
    "\n",
    "# Creating dataframe\n",
    "df = pd.DataFrame()\n",
    "\n",
    "\n",
    "# Extract photos information\n",
    "def photo_information(username_insta):\n",
    "    \n",
    "    # Initialize the lists\n",
    "    likes=[]\n",
    "    comments_count=[]\n",
    "    url=[]\n",
    "    teste=[]\n",
    "    data_foto=[]\n",
    "    latitudelista = []\n",
    "    longitudelista = []\n",
    "    locationlista = []\n",
    "    caption_photo=[]\n",
    "    curtidores_username=[]\n",
    "    curtidores_fullname=[]\n",
    "    username_lista=[]\n",
    "\n",
    "    # Extract all photos information (while for pagination)\n",
    "    request = api.username_feed(username_insta)\n",
    "    teste.extend(request.get('items'))\n",
    "    next_max_id = request.get('next_max_id')\n",
    "    while next_max_id:\n",
    "        request = api.username_feed(username_insta, max_id=next_max_id)\n",
    "        next_max_id = request.get('next_max_id')\n",
    "        teste.extend(request.get('items'))\n",
    "    \n",
    "\n",
    "    # Número de likes em todas as fotos\n",
    "    for i in range(0,len(teste)):\n",
    "        # username\n",
    "        username_lista.append(username_insta)\n",
    "\n",
    "        # Date\n",
    "        if 'taken_at' in teste[i]:\n",
    "            data_foto.append(datetime.datetime.utcfromtimestamp(teste[i]['taken_at']).strftime('%Y-%m-%d %H:%M:%S'))\n",
    "        else:\n",
    "            data_foto.append('-')\n",
    "\n",
    "        # Caption text photo\n",
    "        if ('caption' in teste[i]) and (not teste[i]['caption'] is None):\n",
    "            titulo_foto=str(teste[i]['caption']['text'])\n",
    "            caption_photo.append(titulo_foto)\n",
    "        else:\n",
    "            caption_photo.append('-')\n",
    "\n",
    "        # Number of likes\n",
    "        if 'like_count' in teste[i]:\n",
    "            likes.append(teste[i]['like_count'])\n",
    "        else:\n",
    "            likes.append('-')\n",
    "\n",
    "        # Comments count\n",
    "        if 'comment_count' in teste[i]:\n",
    "            comments_count.append(teste[i]['comment_count'])\n",
    "        else:\n",
    "            comments_count.append('-')\n",
    "\n",
    "        # Latitude, longitude, location\n",
    "        if 'lat' in teste[i]:\n",
    "            latitudelista.append(teste[i]['lat'])\n",
    "        else:\n",
    "            latitudelista.append('-')\n",
    "            \n",
    "        if 'lng' in teste[i]:    \n",
    "            longitudelista.append(teste[i]['lng'])\n",
    "        else:\n",
    "            longitudelista.append('-')\n",
    "            \n",
    "            \n",
    "        if 'location' in teste[i]:   \n",
    "            locationlista.append(teste[i]['location']['city'])\n",
    "        else:\n",
    "            locationlista.append('-')\n",
    "\n",
    "        # URL\n",
    "        if 'carousel_media' not in teste[i]:\n",
    "            url.append(teste[i]['image_versions2']['candidates'][0]['url'])\n",
    "        else:\n",
    "            url.append(teste[i]['carousel_media'][0]['image_versions2']['candidates'][0]['url'])\n",
    "    \n",
    "    combinacao21=[]\n",
    "    combinacao21.extend([list(i) for i in zip(data_foto, username_lista,\n",
    "                                        likes, comments_count, caption_photo, locationlista, latitudelista, longitudelista, url)])\n",
    "    combinacao21 = sorted(combinacao21, key=itemgetter(1), reverse=False)\n",
    "    return(combinacao21)\n",
    "\n",
    "    \n",
    "vamosla = photo_information('eduardocandido6')  \n",
    "vamosla = pd.DataFrame(vamosla, columns = ['Data' , 'Username', 'Likes', 'Comments', 'Title Photo', 'Location', 'Latitude', 'Longitude', 'URL']) \n",
    "vamosla['Data'] = pd.to_datetime(vamosla['Data'])\n",
    "# vamosla['year'] = vamosla['Data'].dt.year\n",
    "vamosla\n",
    "\n",
    "# Save in CSV file\n",
    "vamosla.to_csv('photosInformation.csv', mode='w', sep='\\t', encoding='utf-16', index = None)\n",
    "\n",
    "# --- Top and Worst Photo\n",
    "\n",
    "# Worst Photo\n",
    "min_likes = vamosla[vamosla['Likes']==vamosla['Likes'].min()]\n",
    "min_likes\n",
    "\n",
    "# Best Photo\n",
    "max_likes = vamosla[vamosla['Likes']==vamosla['Likes'].max()]\n",
    "max_likes\n",
    "\n",
    "# Average number of likes\n",
    "vamosla['Likes'].mean()\n",
    "\n",
    "# Median number of likes\n",
    "vamosla['Likes'].median()\n"
   ]
  },
  {
   "cell_type": "markdown",
   "metadata": {},
   "source": [
    "## Download all photos"
   ]
  },
  {
   "cell_type": "code",
   "execution_count": null,
   "metadata": {
    "ExecuteTime": {
     "end_time": "2020-04-28T23:35:16.619422Z",
     "start_time": "2020-04-28T23:35:13.047420Z"
    }
   },
   "outputs": [],
   "source": [
    "import os, urllib.request\n",
    "import random\n",
    "\n",
    "def download_all_images(username_insta, folder):\n",
    "    os.mkdir(folder)\n",
    "    listas = photo_information(username_insta)\n",
    "    for i in range(0,len(listas)):\n",
    "        endereco = folder + '//' + username_insta + str(listas[i][-3]) + '&' +  str(listas[i][-2]) +'_'+str(random.randint(1,1001))+'.jpg'\n",
    "        urllib.request.urlretrieve(listas[i][-1], endereco)  \n",
    "        print(listas[i][-1])\n",
    "\n",
    "download_all_images('victor_linharess', 'Fotos_victor')"
   ]
  },
  {
   "cell_type": "markdown",
   "metadata": {},
   "source": [
    "## People who most like any user photos"
   ]
  },
  {
   "cell_type": "code",
   "execution_count": null,
   "metadata": {
    "ExecuteTime": {
     "end_time": "2020-04-29T01:00:40.029798Z",
     "start_time": "2020-04-29T00:59:51.017995Z"
    },
    "code_folding": [
     17
    ]
   },
   "outputs": [],
   "source": [
    "# Media-id: https://api.instagram.com/oembed/?url=https://www.instagram.com/p/B_SUEKaDZhK/\n",
    "# Extract \"media_id\" from all photos\n",
    "def mediaid(username_insta):\n",
    "    mediaid=[]\n",
    "    request = api.username_feed(username_insta)\n",
    "    mediaid.extend([request['items'][i]['pk'] for i in range(0, len(request['items']))])\n",
    "    next_max_id = request.get('next_max_id')\n",
    "    while next_max_id:\n",
    "        request = api.username_feed(username_insta, max_id=next_max_id)\n",
    "        mediaid.extend([request['items'][i]['pk'] for i in range(0, len(request['items']))])\n",
    "        next_max_id = request.get('next_max_id')\n",
    "    return(mediaid)\n",
    "\n",
    "listacomids = mediaid('eduardocandido6')\n",
    "len(listacomids)\n",
    "\n",
    "# Likers from all photos (1000 likes limitation per photo)\n",
    "def likers(username_insta):\n",
    "    curtidores_id=[]\n",
    "    curtidores_username=[]\n",
    "    curtidores_fullname=[]\n",
    "    curtidores_profile_pic=[]\n",
    "    combinacao=[]\n",
    "    lista_image_id = mediaid(username_insta)\n",
    "    # Change \"len(lista_image_id)\" to number of photos you want to extract - default = all\n",
    "    for i in range(0, len(lista_image_id)):\n",
    "        for curtidas in api.media_likers(lista_image_id[i]).get('users'):\n",
    "            curtidores_username.append(curtidas['username'])\n",
    "            curtidores_fullname.append(curtidas['full_name'])\n",
    "            curtidores_id.append(curtidas['pk'])\n",
    "            curtidores_profile_pic.append(curtidas['profile_pic_url'])\n",
    "    \n",
    "    combinacao.extend([list(i) for i in zip(curtidores_id, curtidores_fullname,\n",
    "                                        curtidores_username, curtidores_profile_pic)])\n",
    "    combinacao = sorted(combinacao, key=itemgetter(2), reverse=False)\n",
    "    return(combinacao)\n",
    "    \n",
    "# Likers - complete list\n",
    "curtidores = likers('eduardocandido6')\n",
    "curtidores = pd.DataFrame(curtidores, columns = ['UserID' , 'Name', 'Username', 'URL Person']) \n",
    "curtidores\n",
    "\n",
    "# Counting likes by username or name\n",
    "curtidores_username_filtrado=Counter(curtidores['Username']).most_common()\n",
    "curtidores_fullname_filtrado=Counter(curtidores['Name']).most_common()\n",
    "curtidores_username_filtrado = pd.DataFrame(curtidores_username_filtrado, columns = ['Username' , 'Qtd'])\n",
    "curtidores_username_filtrado\n",
    "\n",
    "# Save in CSV file\n",
    "curtidores_username_filtrado.to_csv('likers.csv', mode='w', sep='\\t', encoding='utf-16', index = None)\n",
    "\n"
   ]
  },
  {
   "cell_type": "markdown",
   "metadata": {},
   "source": [
    "## People who most comment any user photos"
   ]
  },
  {
   "cell_type": "code",
   "execution_count": null,
   "metadata": {
    "ExecuteTime": {
     "end_time": "2020-04-29T01:01:44.892508Z",
     "start_time": "2020-04-29T01:01:03.637149Z"
    },
    "code_folding": [
     1
    ]
   },
   "outputs": [],
   "source": [
    "# Extract the first 500 user's that commented on a photo\n",
    "def comentaristas(username_insta):\n",
    "    lista_media_id = mediaid(username_insta)\n",
    "    comentaristas=[]\n",
    "    # Change \"len(lista_image_id)\" to number of photos you want to extract - default = all\n",
    "    for i in range(0,len(lista_media_id)):\n",
    "        comentarios = api.media_n_comments(lista_media_id[i], n=500)\n",
    "        for n_com in range(0,len(comentarios)):\n",
    "            comentaristas.append(comentarios[n_com]['user']['username'])\n",
    "    return(comentaristas)\n",
    "        \n",
    "pessoas_comentam = comentaristas('eduardocandido6')\n",
    "principais_comentaristas=Counter(pessoas_comentam).most_common()\n",
    "principais_comentaristas = pd.DataFrame(principais_comentaristas, columns = ['Username' , 'Qtd'])\n",
    "principais_comentaristas\n",
    "\n",
    "# Save in CSV file\n",
    "principais_comentaristas.to_csv('commenters.csv', mode='w', sep='\\t', encoding='utf-16', index = None)\n"
   ]
  },
  {
   "cell_type": "markdown",
   "metadata": {},
   "source": [
    "## Like all the photos of an user"
   ]
  },
  {
   "cell_type": "code",
   "execution_count": null,
   "metadata": {
    "ExecuteTime": {
     "end_time": "2020-04-29T15:57:55.984914Z",
     "start_time": "2020-04-29T15:57:55.730900Z"
    }
   },
   "outputs": [],
   "source": [
    "# Curtir todas as fotos da pessoa\n",
    "listacomids = mediaid('eduardocandido6')\n",
    "for i in range(0,len(listacomids)):\n",
    "    api.post_like(listacomids[i], module_name='feed_timeline')"
   ]
  },
  {
   "cell_type": "markdown",
   "metadata": {},
   "source": [
    "## Other useful functions"
   ]
  },
  {
   "cell_type": "code",
   "execution_count": null,
   "metadata": {
    "ExecuteTime": {
     "end_time": "2020-04-29T22:07:11.982508Z",
     "start_time": "2020-04-29T22:07:09.565369Z"
    },
    "code_folding": [
     8
    ]
   },
   "outputs": [],
   "source": [
    "import requests\n",
    "import json\n",
    "\n",
    "# Get username ID\n",
    "get_userID('quebrandootabu')\n",
    "\n",
    "# Convert media_id to URL link:\n",
    "api.media_permalink(2292983407267649610)['permalink']\n",
    "\n",
    "# Get media_id using photo URL\n",
    "def URLtoMediaID(url):\n",
    "    texto = requests.get('https://api.instagram.com/oembed/?url={}'.format(url)).text\n",
    "    formatado = json.loads(texto)\n",
    "    string = formatado['media_id']\n",
    "    return(string[:string.find('_')])\n",
    "URLtoMediaID('https://www.instagram.com/p/4a03XqpveL/')\n",
    "\n",
    "# Post a comment - (media_id, text)\n",
    "#api.post_comment(1016357169326913419, 'Teste :)')\n",
    "\n",
    "# Check userid is following a tag\n",
    "api.tags_user_following(196211285)\n",
    "\n",
    "# User detail info - experimental\n",
    "#api.user_detail_info(1624955639)\n",
    "\n",
    "# Check userID feed\n",
    "#api.user_feed(7578321540)\n",
    "\n",
    "# Follow someone (userid)\n",
    "api.friendships_create(7578321540)\n",
    "\n",
    "# Unfollow\n",
    "#friendships_destroy(userid)\n",
    "\n",
    "# Friendship status\n",
    "api.friendships_show(get_userID('luanaravena1'))\n",
    "\n",
    "# Requests of friendship pending\n",
    "api.friendships_pending()['users']\n",
    "\n",
    "# Get user feed and story information\n",
    "api.user_story_feed(get_userID('manueladavila'))\n",
    "\n",
    "# Get user stories\n",
    "api.user_story_feed(get_userID('tiaoviana'))['reel']\n",
    "\n",
    "# Get comments likers\n",
    "#api.comment_likers(17893984120500475)\n",
    "\n",
    "# Get comments replies\n",
    "#api.comment_replies(URLtoMediaID('https://www.instagram.com/p/B_kndbCpkvx/'), 17893984120500475)\n",
    "\n",
    "# More...\n",
    "# https://instagram-private-api.readthedocs.io/en/latest/api.html"
   ]
  },
  {
   "cell_type": "markdown",
   "metadata": {},
   "source": [
    "## Using WebAPI:"
   ]
  },
  {
   "cell_type": "code",
   "execution_count": null,
   "metadata": {
    "ExecuteTime": {
     "end_time": "2020-04-29T22:18:48.733507Z",
     "start_time": "2020-04-29T22:18:44.712277Z"
    }
   },
   "outputs": [],
   "source": [
    "# WebAPI\n",
    "\n",
    "import hashlib\n",
    "import string\n",
    "import random\n",
    "import pprint\n",
    "from instagram_web_api import Client, ClientCompatPatch, ClientError, ClientLoginError\n",
    "\n",
    "class MyClient(Client):\n",
    "    @staticmethod\n",
    "    def _extract_rhx_gis(html):\n",
    "        options = string.ascii_lowercase + string.digits\n",
    "        text = ''.join([random.choice(options) for _ in range(8)])\n",
    "        return hashlib.md5(text.encode())\n",
    "\n",
    "# Without any authentication\n",
    "web_api = MyClient(auto_patch=True, drop_incompat_keys=False)\n",
    "\n",
    "# Get location feed (location_id) or location_story_feed(location_id)\n",
    "web_api.location_feed(273471170716)\n"
   ]
  },
  {
   "cell_type": "markdown",
   "metadata": {},
   "source": [
    "## How to be the first comment on a popular instagram's page"
   ]
  },
  {
   "cell_type": "code",
   "execution_count": null,
   "metadata": {
    "ExecuteTime": {
     "end_time": "2020-04-29T20:27:54.427839Z",
     "start_time": "2020-04-29T16:35:08.733592Z"
    }
   },
   "outputs": [],
   "source": [
    "from instagram_private_api import Client, ClientCompatPatch\n",
    "import time\n",
    "from covid import Covid\n",
    "\n",
    "# Extract covid-19 data\n",
    "covid = Covid(source=\"worldometers\")\n",
    "\n",
    "userid_insta = 4544395091\n",
    "feed_qt = api.user_feed(userid_insta)\n",
    "\n",
    "# Last publication\n",
    "last_publication = feed_qt['items'][0]['pk']\n",
    "\n",
    "while True:\n",
    "    new_publication = api.user_feed(userid_insta)['items'][0]['pk']\n",
    "    mortes = covid.get_status_by_country_name(\"brazil\")['deaths']\n",
    "    if new_publication!=last_publication:\n",
    "        frase_publicacao = 'Número de mortes no Brasil COVID-19: {}'.format(mortes)\n",
    "        api.post_comment(new_publication, frase_publicacao)\n",
    "        print(api.media_permalink(new_publication)['permalink'])\n",
    "        last_publication=new_publication\n",
    "    time.sleep(10)"
   ]
  },
  {
   "cell_type": "markdown",
   "metadata": {},
   "source": [
    "## Multiple pages:"
   ]
  },
  {
   "cell_type": "code",
   "execution_count": null,
   "metadata": {
    "ExecuteTime": {
     "end_time": "2020-04-30T23:43:50.566016Z",
     "start_time": "2020-04-30T23:43:47.835860Z"
    }
   },
   "outputs": [],
   "source": [
    "from instagram_private_api import Client, ClientCompatPatch\n",
    "import time\n",
    "\n",
    "# Initialize dictionaries\n",
    "last_publication = {}\n",
    "new_publication = {}\n",
    "\n",
    "#opovoonline\n",
    "\n",
    "# Usernames\n",
    "usernames = ['quebrandootabu', 'jornaloglobo', 'conexaopoliticabrasil', 'brasil.de.direita', \n",
    "             'mblivre', 'joicehasselmannoficial', 'cristiano', 'beyonce', 'senadorhumberto', 'portalg1', 'bolsonarosp',\n",
    "            'jairmessiasbolsonaro', 'ptbrasil', 'jornalistaslivres']\n",
    "\n",
    "# Get the last publication\n",
    "for i in range(0, len(usernames)):\n",
    "    last_publication[i] = api.username_feed(usernames[i])['items'][0]['pk']\n",
    "    \n",
    "while True:\n",
    "    \n",
    "    # Text to post\n",
    "    frase_publicacao = 'Bom dia'\n",
    "    \n",
    "    \n",
    "    for i in range(0, len(usernames)):\n",
    "        # Get new publication\n",
    "        new_publication[i] = api.username_feed(usernames[i])['items'][0]['pk']\n",
    "        \n",
    "        # If there is a new publication then post a comment\n",
    "        if new_publication[i] != last_publication[i]:\n",
    "            api.post_comment(new_publication[i], frase_publicacao)\n",
    "            print(api.media_permalink(new_publication[i])['permalink'])\n",
    "            last_publication[i]=new_publication[i]\n",
    "\n",
    "# Wait 10 seconds\n",
    "time.sleep(10)"
   ]
  },
  {
   "cell_type": "markdown",
   "metadata": {},
   "source": [
    "## Follow multiple users"
   ]
  },
  {
   "cell_type": "code",
   "execution_count": null,
   "metadata": {
    "ExecuteTime": {
     "end_time": "2020-04-29T23:32:36.649461Z",
     "start_time": "2020-04-29T23:32:31.083142Z"
    }
   },
   "outputs": [],
   "source": [
    "seguindo = following_users(get_userID('whinderssonnunes'))\n",
    "seguindo = pd.DataFrame(seguindo, columns = ['userID' , 'Full Name', 'username', 'Profile Picture', 'Type']) \n",
    "seguindo\n",
    "\n",
    "for i in seguindo['userID']:\n",
    "    api.friendships_create(i)"
   ]
  },
  {
   "cell_type": "markdown",
   "metadata": {},
   "source": [
    "## Post a comment in all photos of a person"
   ]
  },
  {
   "cell_type": "code",
   "execution_count": null,
   "metadata": {
    "ExecuteTime": {
     "end_time": "2020-04-30T00:57:00.543436Z",
     "start_time": "2020-04-30T00:56:59.945402Z"
    }
   },
   "outputs": [],
   "source": [
    "# Curtir todas as fotos da pessoa\n",
    "listacomids = mediaid(username)\n",
    "for i in range(4,len(listacomids)):\n",
    "    frase_publicacao = 'Bom dia !' \n",
    "    api.post_comment(listacomids[i], frase_publicacao)\n",
    "    print(listacomids[i])"
   ]
  }
 ],
 "metadata": {
  "hide_input": false,
  "kernelspec": {
   "display_name": "Python 3",
   "language": "python",
   "name": "python3"
  },
  "language_info": {
   "codemirror_mode": {
    "name": "ipython",
    "version": 3
   },
   "file_extension": ".py",
   "mimetype": "text/x-python",
   "name": "python",
   "nbconvert_exporter": "python",
   "pygments_lexer": "ipython3",
   "version": "3.7.6"
  },
  "latex_envs": {
   "LaTeX_envs_menu_present": true,
   "autoclose": false,
   "autocomplete": true,
   "bibliofile": "biblio.bib",
   "cite_by": "apalike",
   "current_citInitial": 1,
   "eqLabelWithNumbers": true,
   "eqNumInitial": 1,
   "hotkeys": {
    "equation": "Ctrl-E",
    "itemize": "Ctrl-I"
   },
   "labels_anchors": false,
   "latex_user_defs": false,
   "report_style_numbering": false,
   "user_envs_cfg": false
  },
  "toc": {
   "base_numbering": 1,
   "nav_menu": {},
   "number_sections": true,
   "sideBar": true,
   "skip_h1_title": false,
   "title_cell": "Table of Contents",
   "title_sidebar": "Contents",
   "toc_cell": false,
   "toc_position": {},
   "toc_section_display": true,
   "toc_window_display": false
  },
  "varInspector": {
   "cols": {
    "lenName": 16,
    "lenType": 16,
    "lenVar": 40
   },
   "kernels_config": {
    "python": {
     "delete_cmd_postfix": "",
     "delete_cmd_prefix": "del ",
     "library": "var_list.py",
     "varRefreshCmd": "print(var_dic_list())"
    },
    "r": {
     "delete_cmd_postfix": ") ",
     "delete_cmd_prefix": "rm(",
     "library": "var_list.r",
     "varRefreshCmd": "cat(var_dic_list()) "
    }
   },
   "position": {
    "height": "571.4px",
    "left": "1119px",
    "right": "20px",
    "top": "121px",
    "width": "350px"
   },
   "types_to_exclude": [
    "module",
    "function",
    "builtin_function_or_method",
    "instance",
    "_Feature"
   ],
   "window_display": false
  }
 },
 "nbformat": 4,
 "nbformat_minor": 4
}
